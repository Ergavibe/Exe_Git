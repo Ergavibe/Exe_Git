{
 "cells": [
  {
   "cell_type": "code",
   "execution_count": 2,
   "metadata": {},
   "outputs": [],
   "source": [
    "data_panen = {\n",
    "    'lokasi1' : {\n",
    "        'nama_lokasi': 'Kebun A',\n",
    "        'hasil_panen': {\n",
    "            'Padi': 1200,\n",
    "            'jagung' : 800,\n",
    "            'Kedelai': 500\n",
    "        }\n",
    "    },\n",
    "    'lokasi2' : {\n",
    "        'nama_lokasi': 'Kebun B',\n",
    "        'hasil_panen': {\n",
    "            'Padi': 1500,\n",
    "            'jagung' : 900,\n",
    "            'Kedelai': 450\n",
    "        }\n",
    "    },\n",
    "    'lokasi3' : {\n",
    "        'nama_lokasi': 'Kebun C',\n",
    "        'hasil_panen': {\n",
    "            'Padi': 1100,\n",
    "            'jagung' : 750,\n",
    "            'Kedelai': 600\n",
    "        }\n",
    "    },\n",
    "    'lokasi4' : {\n",
    "        'nama_lokasi': 'Kebun D',\n",
    "        'hasil_panen': {\n",
    "            'Padi': 1300,\n",
    "            'jagung' : 850,\n",
    "            'Kedelai': 550\n",
    "        }\n",
    "    },\n",
    "    'lokasi5' : {\n",
    "        'nama_lokasi': 'Kebun E',\n",
    "        'hasil_panen': {\n",
    "            'Padi': 1400,\n",
    "            'jagung' : 950,\n",
    "            'Kedelai': 480\n",
    "        }\n",
    "    }\n",
    "}"
   ]
  },
  {
   "cell_type": "code",
   "execution_count": 6,
   "metadata": {},
   "outputs": [
    {
     "name": "stdout",
     "output_type": "stream",
     "text": [
      "\n",
      "lokasi1:\n",
      "Nama Lokasi: Kebun A\n",
      "Hasil Panen:\n",
      "- Padi: 1200\n",
      "- jagung: 800\n",
      "- Kedelai: 500\n",
      "\n",
      "lokasi2:\n",
      "Nama Lokasi: Kebun B\n",
      "Hasil Panen:\n",
      "- Padi: 1500\n",
      "- jagung: 900\n",
      "- Kedelai: 450\n",
      "\n",
      "lokasi3:\n",
      "Nama Lokasi: Kebun C\n",
      "Hasil Panen:\n",
      "- Padi: 1100\n",
      "- jagung: 750\n",
      "- Kedelai: 600\n",
      "\n",
      "lokasi4:\n",
      "Nama Lokasi: Kebun D\n",
      "Hasil Panen:\n",
      "- Padi: 1300\n",
      "- jagung: 850\n",
      "- Kedelai: 550\n",
      "\n",
      "lokasi5:\n",
      "Nama Lokasi: Kebun E\n",
      "Hasil Panen:\n",
      "- Padi: 1400\n",
      "- jagung: 950\n",
      "- Kedelai: 480\n"
     ]
    }
   ],
   "source": [
    "#Tampilkan seluruh data dari data_panen termasuk nama lokasi dan hasil panen masing-masing\n",
    "\n",
    "def tampil_data(data_panen):\n",
    "    for lokasi, detail in data_panen.items():\n",
    "        print(f\"\\n{lokasi}:\")\n",
    "        print(f\"Nama Lokasi: {detail['nama_lokasi']}\")\n",
    "        print(\"Hasil Panen:\")\n",
    "        for jenis, jumlah in detail['hasil_panen'].items():\n",
    "            print(f\"- {jenis}: {jumlah}\")\n",
    "\n",
    "tampil_data(data_panen)"
   ]
  },
  {
   "cell_type": "code",
   "execution_count": 7,
   "metadata": {},
   "outputs": [
    {
     "name": "stdout",
     "output_type": "stream",
     "text": [
      "Jumlah Panen Jagung di Lokasi 2: 900\n"
     ]
    }
   ],
   "source": [
    "#Tampilkan jumlah hasil panen jagung dari lokasi2\n",
    "def jlok2(data_panen):\n",
    "    jagung_lokasi2 = data_panen['lokasi2']['hasil_panen']['jagung']\n",
    "    print(f\"Jumlah Panen Jagung di Lokasi 2: {jagung_lokasi2}\")\n",
    "    \n",
    "jlok2(data_panen)"
   ]
  },
  {
   "cell_type": "code",
   "execution_count": 8,
   "metadata": {},
   "outputs": [
    {
     "name": "stdout",
     "output_type": "stream",
     "text": [
      "Nama Lokasi 3: Kebun C\n"
     ]
    }
   ],
   "source": [
    "#Tampilkan nama lokasi dari lokasi3\n",
    "def lokasi3(data_panen):\n",
    "    nama_lokasi3 = data_panen['lokasi3']['nama_lokasi']\n",
    "    print(f\"Nama Lokasi 3: {nama_lokasi3}\")\n",
    "    \n",
    "lokasi3(data_panen)"
   ]
  },
  {
   "cell_type": "code",
   "execution_count": null,
   "metadata": {},
   "outputs": [
    {
     "name": "stdout",
     "output_type": "stream",
     "text": [
      "Hasil Panen Padi: {'lokasi1': 1200, 'lokasi2': 1500, 'lokasi3': 1100, 'lokasi4': 1300, 'lokasi5': 1400}\n",
      "Hasil Panen Kedelai: {'lokasi1': 500, 'lokasi2': 450, 'lokasi3': 600, 'lokasi4': 550, 'lokasi5': 480}\n"
     ]
    }
   ],
   "source": [
    "#Variabel Hasil Panen Padi dan Kedelai\n",
    "def padi_kedelai(data_panen):\n",
    "    hasil_padi = {}\n",
    "    hasil_kedelai = {}\n",
    "    \n",
    "    for lokasi, detail in data_panen.items():\n",
    "        hasil_padi[lokasi] = detail['hasil_panen']['Padi']\n",
    "        hasil_kedelai[lokasi] = detail['hasil_panen']['Kedelai']\n",
    "    \n",
    "    print(\"Hasil Panen Padi:\", hasil_padi)\n",
    "    print(\"Hasil Panen Kedelai:\", hasil_kedelai)\n",
    "\n",
    "padi_kedelai(data_panen)"
   ]
  },
  {
   "cell_type": "code",
   "execution_count": 17,
   "metadata": {},
   "outputs": [
    {
     "name": "stdout",
     "output_type": "stream",
     "text": [
      "\n",
      "lokasi1 - Kebun A:\n",
      "Kondisi Baik\n",
      "\n",
      "lokasi2 - Kebun B:\n",
      "Memerlukan Perhatian Khusus!\n",
      "Alasan: Padi = 1500, Jagung = 900\n",
      "\n",
      "lokasi3 - Kebun C:\n",
      "Kondisi Baik\n",
      "\n",
      "lokasi4 - Kebun D:\n",
      "Memerlukan Perhatian Khusus!\n",
      "Alasan: Padi = 1300, Jagung = 850\n",
      "\n",
      "lokasi5 - Kebun E:\n",
      "Memerlukan Perhatian Khusus!\n",
      "Alasan: Padi = 1400, Jagung = 950\n"
     ]
    }
   ],
   "source": [
    "#Percabangan\n",
    "def cek_kondisi(data_panen):\n",
    "    for lokasi, detail in data_panen.items():\n",
    "        padi = detail['hasil_panen']['Padi']\n",
    "        jagung = detail['hasil_panen']['jagung']\n",
    "        \n",
    "        print(f\"\\n{lokasi} - {detail['nama_lokasi']}:\")\n",
    "        if padi > 1300 or jagung > 800:\n",
    "            print(\"Memerlukan Perhatian Khusus!\")\n",
    "            print(f\"Alasan: Padi = {padi}, Jagung = {jagung}\")\n",
    "        else:\n",
    "            print(\"Kondisi Baik\")\n",
    "\n",
    "cek_kondisi(data_panen)"
   ]
  },
  {
   "cell_type": "code",
   "execution_count": null,
   "metadata": {},
   "outputs": [],
   "source": []
  }
 ],
 "metadata": {
  "kernelspec": {
   "display_name": "Python 3",
   "language": "python",
   "name": "python3"
  },
  "language_info": {
   "codemirror_mode": {
    "name": "ipython",
    "version": 3
   },
   "file_extension": ".py",
   "mimetype": "text/x-python",
   "name": "python",
   "nbconvert_exporter": "python",
   "pygments_lexer": "ipython3",
   "version": "3.12.5"
  }
 },
 "nbformat": 4,
 "nbformat_minor": 2
}
